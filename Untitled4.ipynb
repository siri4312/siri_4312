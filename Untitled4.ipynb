{
  "nbformat": 4,
  "nbformat_minor": 0,
  "metadata": {
    "colab": {
      "provenance": []
    },
    "kernelspec": {
      "name": "python3",
      "display_name": "Python 3"
    },
    "language_info": {
      "name": "python"
    }
  },
  "cells": [
    {
      "cell_type": "code",
      "execution_count": 1,
      "metadata": {
        "colab": {
          "base_uri": "https://localhost:8080/"
        },
        "id": "PklXb1S4prbH",
        "outputId": "76cb80b0-3992-4889-9ab2-96e7812c4c03"
      },
      "outputs": [
        {
          "output_type": "stream",
          "name": "stdout",
          "text": [
            "Hard-coded values: Name = siri, Age = 25, City = hyderabad\n"
          ]
        }
      ],
      "source": [
        "name = \"siri\"\n",
        "age = 25\n",
        "city = \"hyderabad\"\n",
        "\n",
        "print(f\"Hard-coded values: Name = {name}, Age = {age}, City = {city}\")\n"
      ]
    },
    {
      "cell_type": "code",
      "source": [
        "user_name = input(\"Enter your name: \")\n",
        "user_age = int(input(\"Enter your age: \"))\n",
        "user_city = input(\"Enter your city: \")\n",
        "\n",
        "print(\"\\n--- User Input Summary ---\")\n",
        "print(f\"Name: {user_name}\")\n",
        "print(f\"Age: {user_age}\")\n",
        "print(f\"City: {user_city}\")\n"
      ],
      "metadata": {
        "colab": {
          "base_uri": "https://localhost:8080/"
        },
        "id": "Ft77aOxMrc-_",
        "outputId": "a33bc147-2913-415d-b224-bc1ec3b85f75"
      },
      "execution_count": 7,
      "outputs": [
        {
          "output_type": "stream",
          "name": "stdout",
          "text": [
            "Enter your name: siri\n",
            "Enter your age: 25\n",
            "Enter your city: hyderabad\n",
            "\n",
            "--- User Input Summary ---\n",
            "Name: siri\n",
            "Age: 25\n",
            "City: hyderabad\n"
          ]
        }
      ]
    },
    {
      "cell_type": "code",
      "source": [
        "with open('single_input.txt', 'w') as f:\n",
        "    f.write(f\"{user_name}\\n{user_age}\\n{user_city}\")\n",
        "try:\n",
        "    with open('single_input.txt', 'r') as file:\n",
        "        single_input = file.read().strip()\n",
        "        print(f\"Single input from file: {single_input}\")\n",
        "except FileNotFoundError:\n",
        "    print(\"Error: The file 'single_input.txt' was not found.\")\n"
      ],
      "metadata": {
        "colab": {
          "base_uri": "https://localhost:8080/"
        },
        "id": "wbjGOOhPsIWR",
        "outputId": "f15c66ff-f77c-42c8-abaa-800037f08cf6"
      },
      "execution_count": 9,
      "outputs": [
        {
          "output_type": "stream",
          "name": "stdout",
          "text": [
            "Single input from file: siri\n",
            "25\n",
            "hyderabad\n"
          ]
        }
      ]
    },
    {
      "cell_type": "code",
      "source": [
        "with open('multiple_inputs.txt', 'w') as file:\n",
        "    file.write(\"First input from file\\n\")\n",
        "    file.write(\"Second input from file\\n\")\n",
        "    file.write(\"Third input from file\\n\")\n",
        "\n",
        "print(\"Data has been written to 'multiple_inputs.txt'.\")\n"
      ],
      "metadata": {
        "colab": {
          "base_uri": "https://localhost:8080/"
        },
        "id": "YPChvBuutfcE",
        "outputId": "aaaf1de2-b41b-4770-fa3f-9fb8f9aeffaa"
      },
      "execution_count": 13,
      "outputs": [
        {
          "output_type": "stream",
          "name": "stdout",
          "text": [
            "Data has been written to 'multiple_inputs.txt'.\n"
          ]
        }
      ]
    }
  ]
}